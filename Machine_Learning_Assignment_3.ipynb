{
  "nbformat": 4,
  "nbformat_minor": 0,
  "metadata": {
    "colab": {
      "provenance": [],
      "include_colab_link": true
    },
    "kernelspec": {
      "name": "python3",
      "display_name": "Python 3"
    },
    "language_info": {
      "name": "python"
    }
  },
  "cells": [
    {
      "cell_type": "markdown",
      "metadata": {
        "id": "view-in-github",
        "colab_type": "text"
      },
      "source": [
        "<a href=\"https://colab.research.google.com/github/singammanasvi9440/Assignment-3/blob/main/Machine_Learning_Assignment_3.ipynb\" target=\"_parent\"><img src=\"https://colab.research.google.com/assets/colab-badge.svg\" alt=\"Open In Colab\"/></a>"
      ]
    },
    {
      "cell_type": "markdown",
      "source": [
        "### 1. Numpy\n",
        "\n",
        "\n"
      ],
      "metadata": {
        "id": "Kq2d0ky4Cz2m"
      }
    },
    {
      "cell_type": "code",
      "execution_count": 1,
      "metadata": {
        "colab": {
          "base_uri": "https://localhost:8080/"
        },
        "id": "N9fbVpv6CS6A",
        "outputId": "dfc87c7a-2010-4d27-d486-77632a8466b9"
      },
      "outputs": [
        {
          "output_type": "stream",
          "name": "stdout",
          "text": [
            "(3, 5)\n",
            "[[11  2  6  4  6]\n",
            " [10 18 14  5  1]\n",
            " [ 9 13  5  8 15]]\n",
            "\n",
            " [[ 0  2  6  4  6]\n",
            " [10  0 14  5  1]\n",
            " [ 9 13  5  8  0]]\n"
          ]
        }
      ],
      "source": [
        "# a.Create a random vector of size 15 having Integers in the range of 1-20.\n",
        "import numpy as np\n",
        "v =  np.random.randint(1,20,(15,))\n",
        "\n",
        "# Reshape the array into 3 x 5 \n",
        "arr = v.reshape(3,5)\n",
        "print(arr.shape)\n",
        "print(arr)\n",
        "\n",
        "# Replace the max in each row by 0\n",
        "row_max = arr.max(axis=1).reshape(-1,1)\n",
        "arr = np.where(arr == row_max, 0, arr)\n",
        "print('\\n',arr)"
      ]
    },
    {
      "cell_type": "code",
      "source": [
        "# Create a 2-d array of size 4 x 3 (composed of 4-byte integer elements),print the shape, type and data type of the array\n",
        "x = np.array([[1, 2, 3], [4, 5, 6], [7, 8, 9], [10, 5, 7]], np.int32)\n",
        "print('Shape:', x.shape)\n",
        "print('Type:', type(x))\n",
        "print('Data type:', x.dtype)"
      ],
      "metadata": {
        "colab": {
          "base_uri": "https://localhost:8080/"
        },
        "id": "YOD78H8RMiZK",
        "outputId": "4430815c-1dd6-4529-911f-a33006fc3f7e"
      },
      "execution_count": 2,
      "outputs": [
        {
          "output_type": "stream",
          "name": "stdout",
          "text": [
            "Shape: (4, 3)\n",
            "Type: <class 'numpy.ndarray'>\n",
            "Data type: int32\n"
          ]
        }
      ]
    },
    {
      "cell_type": "code",
      "source": [
        "#b. Compute the eigenvalues and right eigenvectors\n",
        "from numpy import linalg as LA\n",
        "mat = np.array([[3, -2], [1, 0]], np.int32)\n",
        "w, v = LA.eig(mat)\n",
        "print('Eigenvalues:', w)\n",
        "print('\\nRight eigenvectors:\\n', v)"
      ],
      "metadata": {
        "colab": {
          "base_uri": "https://localhost:8080/"
        },
        "id": "jftyj3YoQ-ep",
        "outputId": "0edac428-c9ba-47eb-d498-6f3bef368106"
      },
      "execution_count": 3,
      "outputs": [
        {
          "output_type": "stream",
          "name": "stdout",
          "text": [
            "Eigenvalues: [2. 1.]\n",
            "\n",
            "Right eigenvectors:\n",
            " [[0.89442719 0.70710678]\n",
            " [0.4472136  0.70710678]]\n"
          ]
        }
      ]
    },
    {
      "cell_type": "code",
      "source": [
        "#c. Compute the sum of the diagonal elements with trace\n",
        "n = np.array([[0, 1, 2], [3, 4, 5]])\n",
        "res = np.trace(n)\n",
        "print('Sum of diagonal elements:', res)"
      ],
      "metadata": {
        "colab": {
          "base_uri": "https://localhost:8080/"
        },
        "id": "bxjoYiUDVO-f",
        "outputId": "ba26c1f1-98fb-4188-d34d-012f394640e4"
      },
      "execution_count": 4,
      "outputs": [
        {
          "output_type": "stream",
          "name": "stdout",
          "text": [
            "Sum of diagonal elements: 4\n"
          ]
        }
      ]
    },
    {
      "cell_type": "code",
      "source": [
        "#d.\n",
        "m = np.arange(1,7).reshape(3,2)\n",
        "m = m.reshape(2,3)\n"
      ],
      "metadata": {
        "id": "TzwyqPlAV9bB"
      },
      "execution_count": 5,
      "outputs": []
    },
    {
      "cell_type": "markdown",
      "source": [
        "### 2. Matplotlib"
      ],
      "metadata": {
        "id": "GYQmXb2zXT6u"
      }
    },
    {
      "cell_type": "code",
      "source": [
        "import matplotlib.pyplot as plt\n",
        "languages = ['Java', 'Python', 'PHP', 'JavaScript', 'C#', 'C++']\n",
        "popularity = np.array([22.2, 17.6, 8.8, 8, 7.7, 6.7])\n",
        "exp = [0.2, 0, 0, 0, 0, 0]\n",
        "plt.pie(popularity, labels = languages, explode = exp, shadow = True, autopct='%1.1f%%', startangle = 135)\n",
        "plt.show()"
      ],
      "metadata": {
        "colab": {
          "base_uri": "https://localhost:8080/",
          "height": 406
        },
        "id": "Ov2BxoVrXZzq",
        "outputId": "c9a6c3aa-6c8a-42d3-ca65-833aae7e9d09"
      },
      "execution_count": 6,
      "outputs": [
        {
          "output_type": "display_data",
          "data": {
            "text/plain": [
              "<Figure size 640x480 with 1 Axes>"
            ],
            "image/png": "[encoded data removed]"
          },
          "metadata": {}
        }
      ]
    },
    {
      "cell_type": "code",
      "source": [],
      "metadata": {
        "id": "_HPcawCRpaH3"
      },
      "execution_count": null,
      "outputs": []
    }
  ]
}